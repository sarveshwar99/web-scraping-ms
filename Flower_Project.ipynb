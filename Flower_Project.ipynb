{
 "cells": [
  {
   "cell_type": "code",
   "execution_count": 1,
   "metadata": {},
   "outputs": [],
   "source": [
    "import builtwith"
   ]
  },
  {
   "cell_type": "code",
   "execution_count": 2,
   "metadata": {},
   "outputs": [
    {
     "data": {
      "text/plain": [
       "{'web-servers': ['Apache'],\n",
       " 'javascript-frameworks': ['Modernizr', 'jQuery'],\n",
       " 'cms': ['WordPress'],\n",
       " 'programming-languages': ['PHP'],\n",
       " 'blogs': ['PHP', 'WordPress'],\n",
       " 'web-frameworks': ['ZURB Foundation']}"
      ]
     },
     "execution_count": 2,
     "metadata": {},
     "output_type": "execute_result"
    }
   ],
   "source": [
    "builtwith.parse('http://g3.no/kulturer/fuchsia-x-hybrida/')"
   ]
  },
  {
   "cell_type": "code",
   "execution_count": 3,
   "metadata": {},
   "outputs": [],
   "source": [
    "import requests\n",
    "from bs4 import BeautifulSoup\n",
    "import pandas as pd\n",
    "import re"
   ]
  },
  {
   "cell_type": "code",
   "execution_count": 4,
   "metadata": {},
   "outputs": [],
   "source": [
    "url='http://g3.no/kulturer/fuchsia-x-hybrida/'"
   ]
  },
  {
   "cell_type": "code",
   "execution_count": 5,
   "metadata": {},
   "outputs": [],
   "source": [
    "headers={'User-Agent': 'mickey jn 125'}"
   ]
  },
  {
   "cell_type": "code",
   "execution_count": 6,
   "metadata": {},
   "outputs": [],
   "source": [
    "html=requests.get(url,headers=headers)"
   ]
  },
  {
   "cell_type": "code",
   "execution_count": 7,
   "metadata": {},
   "outputs": [
    {
     "data": {
      "text/plain": [
       "{'User-Agent': 'mickey jn 125', 'Accept-Encoding': 'gzip, deflate', 'Accept': '*/*', 'Connection': 'keep-alive'}"
      ]
     },
     "execution_count": 7,
     "metadata": {},
     "output_type": "execute_result"
    }
   ],
   "source": [
    "html.request.headers"
   ]
  },
  {
   "cell_type": "code",
   "execution_count": 8,
   "metadata": {},
   "outputs": [],
   "source": [
    "soup=BeautifulSoup(html.text,'lxml')"
   ]
  },
  {
   "cell_type": "code",
   "execution_count": 9,
   "metadata": {},
   "outputs": [],
   "source": [
    "links=[line['href'] for line in soup.findAll('a')][13:-5]"
   ]
  },
  {
   "cell_type": "code",
   "execution_count": 10,
   "metadata": {},
   "outputs": [],
   "source": [
    "url2=links[0]"
   ]
  },
  {
   "cell_type": "code",
   "execution_count": 11,
   "metadata": {},
   "outputs": [],
   "source": [
    "html2=requests.get(url2,headers=headers)"
   ]
  },
  {
   "cell_type": "code",
   "execution_count": 12,
   "metadata": {},
   "outputs": [],
   "source": [
    "soup2=BeautifulSoup(html2.text,'lxml')"
   ]
  },
  {
   "cell_type": "code",
   "execution_count": 13,
   "metadata": {},
   "outputs": [],
   "source": [
    "def f_fl_spec(soup):\n",
    "    return soup.header.h2.text"
   ]
  },
  {
   "cell_type": "code",
   "execution_count": 14,
   "metadata": {},
   "outputs": [
    {
     "data": {
      "text/plain": [
       "<h2>Fuchsia x hybrida Opprett</h2>"
      ]
     },
     "execution_count": 14,
     "metadata": {},
     "output_type": "execute_result"
    }
   ],
   "source": [
    "soup2.header.h2"
   ]
  },
  {
   "cell_type": "code",
   "execution_count": 15,
   "metadata": {},
   "outputs": [
    {
     "data": {
      "text/plain": [
       "'Fuchsia x hybrida Opprett'"
      ]
     },
     "execution_count": 15,
     "metadata": {},
     "output_type": "execute_result"
    }
   ],
   "source": [
    "f_fl_spec(soup2)"
   ]
  },
  {
   "cell_type": "code",
   "execution_count": 16,
   "metadata": {},
   "outputs": [],
   "source": [
    "def f_type(soup):\n",
    "    return soup.header.h1.text"
   ]
  },
  {
   "cell_type": "code",
   "execution_count": 17,
   "metadata": {},
   "outputs": [
    {
     "data": {
      "text/plain": [
       "'Annabel'"
      ]
     },
     "execution_count": 17,
     "metadata": {},
     "output_type": "execute_result"
    }
   ],
   "source": [
    "f_type(soup2)"
   ]
  },
  {
   "cell_type": "code",
   "execution_count": 18,
   "metadata": {},
   "outputs": [],
   "source": [
    "def f_col(soup):\n",
    "    return re.findall('Farge:\\s+([A-Za-z/0-9]+)',re.sub('\\n|\\t',' ',soup.findAll('div',{'class':'medium-6 columns'})[1].p.text))[0]"
   ]
  },
  {
   "cell_type": "code",
   "execution_count": 19,
   "metadata": {},
   "outputs": [
    {
     "data": {
      "text/plain": [
       "'Hvit/hvit'"
      ]
     },
     "execution_count": 19,
     "metadata": {},
     "output_type": "execute_result"
    }
   ],
   "source": [
    "f_col(soup2)"
   ]
  },
  {
   "cell_type": "code",
   "execution_count": 20,
   "metadata": {},
   "outputs": [],
   "source": [
    "def f_del_week(soup):\n",
    "    return re.findall('Leveringsuke:\\s+([a-z0-9\\s]+)Farge:',re.sub('\\n|\\t',' ',soup.findAll('div',{'class':'medium-6 columns'})[1].p.text))[0].strip()"
   ]
  },
  {
   "cell_type": "code",
   "execution_count": 21,
   "metadata": {},
   "outputs": [
    {
     "data": {
      "text/plain": [
       "'7 og 10'"
      ]
     },
     "execution_count": 21,
     "metadata": {},
     "output_type": "execute_result"
    }
   ],
   "source": [
    "f_del_week(soup2)"
   ]
  },
  {
   "cell_type": "code",
   "execution_count": 22,
   "metadata": {},
   "outputs": [],
   "source": [
    "def f_link_picture(soup):\n",
    "    return soup.findAll('div',{'class':'medium-6 columns'})[0].img['src'] if soup.findAll('div',{'class':'medium-6 columns'})[0].img else None"
   ]
  },
  {
   "cell_type": "code",
   "execution_count": 23,
   "metadata": {},
   "outputs": [
    {
     "data": {
      "text/plain": [
       "'http://g3.no/wp-content/uploads/Annabell_fuchsia_hendriks_young_plants.jpg'"
      ]
     },
     "execution_count": 23,
     "metadata": {},
     "output_type": "execute_result"
    }
   ],
   "source": [
    "f_link_picture(soup2)"
   ]
  },
  {
   "cell_type": "code",
   "execution_count": 24,
   "metadata": {},
   "outputs": [
    {
     "data": {
      "text/plain": [
       "['http://g3.no/sorter/annabel/',\n",
       " 'http://g3.no/sorter/evita/',\n",
       " 'http://g3.no/sorter/mariska/',\n",
       " 'http://g3.no/sorter/bella-nikita/',\n",
       " 'http://g3.no/sorter/bella-sacha/',\n",
       " 'http://g3.no/sorter/sarah/',\n",
       " 'http://g3.no/sorter/soila/',\n",
       " 'http://g3.no/sorter/susanna/',\n",
       " 'http://g3.no/sorter/vera/',\n",
       " 'http://g3.no/sorter/bella-miranda/',\n",
       " 'http://g3.no/sorter/carmel-blue/',\n",
       " 'http://g3.no/sorter/gartenmeister-bonstedt/',\n",
       " 'http://g3.no/sorter/general-monk/',\n",
       " 'http://g3.no/sorter/jollies-nantes/',\n",
       " 'http://g3.no/sorter/pink-spritzer-2/',\n",
       " 'http://g3.no/sorter/schrimp-cocktail/',\n",
       " 'http://g3.no/sorter/wassernimphe/',\n",
       " 'http://g3.no/sorter/yeti/',\n",
       " 'http://g3.no/sorter/mini-rose/',\n",
       " 'http://g3.no/sorter/mieke-meursing/',\n",
       " 'http://g3.no/sorter/maria-landy/',\n",
       " 'http://g3.no/sorter/display/',\n",
       " 'http://g3.no/sorter/opprett-mix-4/',\n",
       " 'http://g3.no/sorter/opprett-mix-3/',\n",
       " 'http://g3.no/sorter/opprett-mix-2/',\n",
       " 'http://g3.no/sorter/opprett-mix-1/',\n",
       " 'http://g3.no/sorter/waltz-jubelteen/',\n",
       " 'http://g3.no/sorter/poula-jane/',\n",
       " 'http://g3.no/sorter/nicen-easy/',\n",
       " 'http://g3.no/sorter/miss-california/',\n",
       " 'http://g3.no/sorter/lena-dalton/',\n",
       " 'http://g3.no/sorter/lambada/',\n",
       " 'http://g3.no/sorter/krommenie/',\n",
       " 'http://g3.no/sorter/insolinde/',\n",
       " 'http://g3.no/sorter/goteborskan/',\n",
       " 'http://g3.no/sorter/gillian-anthea/',\n",
       " 'http://g3.no/sorter/georg-barlett/',\n",
       " 'http://g3.no/sorter/euro-princess/',\n",
       " 'http://g3.no/sorter/ernie/',\n",
       " 'http://g3.no/sorter/ellebel/',\n",
       " 'http://g3.no/sorter/electric-light/',\n",
       " 'http://g3.no/sorter/beckie-lou/',\n",
       " 'http://g3.no/sorter/beacon-rosa/',\n",
       " 'http://g3.no/sorter/beacon/',\n",
       " 'http://g3.no/sorter/albertina/']"
      ]
     },
     "execution_count": 24,
     "metadata": {},
     "output_type": "execute_result"
    }
   ],
   "source": [
    "links"
   ]
  },
  {
   "cell_type": "code",
   "execution_count": 31,
   "metadata": {},
   "outputs": [],
   "source": [
    "Flower_Specie=[]\n",
    "Type=[]\n",
    "Colour=[]\n",
    "Delivery_Week=[]\n",
    "Link_to_Picture=[]\n",
    "Link_to_detail_page=[]"
   ]
  },
  {
   "cell_type": "code",
   "execution_count": 32,
   "metadata": {},
   "outputs": [],
   "source": [
    "for link in links[:10]:\n",
    "    html=requests.get(link,headers=headers)\n",
    "    soup=BeautifulSoup(html.text,'lxml')\n",
    "    Flower_Specie.append(f_fl_spec(soup))\n",
    "    Type.append(f_type(soup))\n",
    "    Colour.append(f_col(soup))\n",
    "    Delivery_Week.append(f_del_week(soup))\n",
    "    Link_to_Picture.append(f_link_picture(soup))\n",
    "    Link_to_detail_page.append(link)"
   ]
  },
  {
   "cell_type": "code",
   "execution_count": 33,
   "metadata": {},
   "outputs": [
    {
     "data": {
      "text/plain": [
       "['Annabel',\n",
       " 'Bella – Evita',\n",
       " 'Bella – Mariska',\n",
       " 'Bella – Nikita',\n",
       " 'Bella – Sacha',\n",
       " 'Bella – Sarah',\n",
       " 'Bella – Soila',\n",
       " 'Bella – Susanna',\n",
       " 'Bella – Vera',\n",
       " 'Bella – Miranda']"
      ]
     },
     "execution_count": 33,
     "metadata": {},
     "output_type": "execute_result"
    }
   ],
   "source": [
    "Type"
   ]
  },
  {
   "cell_type": "code",
   "execution_count": 35,
   "metadata": {},
   "outputs": [],
   "source": [
    "df=pd.DataFrame({'Flower_Specie':Flower_Specie,'Type':Type,'Colour':Colour,'Delivery_Week':Delivery_Week,'Link_to_Picture':Link_to_Picture,'Link_to_detail_page':Link_to_detail_page})"
   ]
  },
  {
   "cell_type": "code",
   "execution_count": 36,
   "metadata": {},
   "outputs": [],
   "source": [
    "df.to_csv('C:\\\\Users\\\\Gaya\\\\Desktop\\\\flower_dataset_example.csv')"
   ]
  },
  {
   "cell_type": "code",
   "execution_count": null,
   "metadata": {},
   "outputs": [],
   "source": []
  }
 ],
 "metadata": {
  "kernelspec": {
   "display_name": "Python 3",
   "language": "python",
   "name": "python3"
  },
  "language_info": {
   "codemirror_mode": {
    "name": "ipython",
    "version": 3
   },
   "file_extension": ".py",
   "mimetype": "text/x-python",
   "name": "python",
   "nbconvert_exporter": "python",
   "pygments_lexer": "ipython3",
   "version": "3.6.5"
  }
 },
 "nbformat": 4,
 "nbformat_minor": 2
}
